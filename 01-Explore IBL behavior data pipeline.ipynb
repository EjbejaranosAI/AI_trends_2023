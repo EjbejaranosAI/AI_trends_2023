{
  "cells": [
    {
      "cell_type": "markdown",
      "metadata": {
        "id": "2vHBbgcw1vyq"
      },
      "source": [
        "## About this resource"
      ]
    },
    {
      "cell_type": "markdown",
      "metadata": {
        "id": "ux6-GzNB1vyt"
      },
      "source": [
        "All of the tutorial notebooks as well as information about the dependent package (`nma-ibl`) can be found at [nma-ibl GitHub repository](https://github.com/int-brain-lab/nma-ibl)."
      ]
    },
    {
      "cell_type": "markdown",
      "metadata": {
        "id": "4FdI_lvv1vyt"
      },
      "source": [
        "## Setting up the environment (particularly for Colab users)"
      ]
    },
    {
      "cell_type": "markdown",
      "metadata": {
        "id": "RKvtyVsd1vyu"
      },
      "source": [
        "Please execute the cells below the install the necessary dependencies and prepare the environment."
      ]
    },
    {
      "cell_type": "code",
      "execution_count": null,
      "metadata": {
        "id": "oqaVOKOM1vyu"
      },
      "outputs": [],
      "source": [
        "# install IBL pipeline package to access and navigate the pipeline\n",
        "!pip install --quiet nma-ibl"
      ]
    },
    {
      "cell_type": "markdown",
      "metadata": {
        "id": "Lp1P5si11vyv"
      },
      "source": [
        "# Explore IBL data Pipeline\n",
        "\n",
        "Welcome! This notebook gives you a brief introduction on the [International Brain Laboratory (IBL)](https://www.internationalbrainlab.com/) data pipeline, and provide quick guidance on how to explore the data pipeline utilizing [DataJoint](https://datajoint.io) -- the framework in which the pipeline has been developed."
      ]
    },
    {
      "cell_type": "markdown",
      "metadata": {
        "id": "-Wr_axZU1vyw"
      },
      "source": [
        "## A little bit about DataJoint"
      ]
    },
    {
      "cell_type": "markdown",
      "metadata": {
        "id": "YDKo9Ij41vyw"
      },
      "source": [
        "[DataJoint](https://datajoint.io) is a general data pipeline framework offered in Python & MATLAB, that allows users to interact with a relational database (e.g. MySQL) intuitively and efficiently. Among many features, it offers a way to develop data pipelines with built-in integrity and consistency checks, and provides facility to define tables for computations with tools to quickly parallelize the processing over multiple computers! To learn more, please visit the website [DataJoint.io](https://datajoint.io). There you will find links to our interactive playgrounds and tutorials. \n",
        "\n",
        "[Vathes](https://vathes.com) and, in particular, [DataJoint Neuro](https://djneuro.io) is the team that develops and maintains DataJoint, and also help researchers and labs to adopt DataJoint and design pipeline."
      ]
    },
    {
      "cell_type": "markdown",
      "metadata": {
        "id": "N9T_uXcz1vyw"
      },
      "source": [
        "Using DataJoint framework, we have been processing data daily within IBL project, and provides a website that displays data and visualizations for the daily training results at https://data.internationalbrainlab.org."
      ]
    },
    {
      "cell_type": "markdown",
      "metadata": {
        "id": "-rCLn3kc1vyw"
      },
      "source": [
        "## Navigating the IBL data pipeline"
      ]
    },
    {
      "cell_type": "markdown",
      "metadata": {
        "id": "4PMXoWtp1vyx"
      },
      "source": [
        "Here we will go through some useful tools to navigate through and get familiar with the data as foundin the pipeline.\n",
        "\n",
        "First thing first, let's **import DataJoint and the IBL pipeline package**."
      ]
    },
    {
      "cell_type": "code",
      "execution_count": null,
      "metadata": {
        "id": "Katr03DT1vyx"
      },
      "outputs": [],
      "source": [
        "import datajoint as dj"
      ]
    },
    {
      "cell_type": "markdown",
      "metadata": {
        "id": "7TYGwlFy1vyx"
      },
      "source": [
        "We'll then need to configure DataJoint to connect to the IBL public database hosted at datajoint-public.internationalbrainlab.org.\n",
        "Please use the public credentials `ibl-public`:"
      ]
    },
    {
      "cell_type": "code",
      "execution_count": null,
      "metadata": {
        "id": "vFVR55Ci1vyx"
      },
      "outputs": [],
      "source": [
        "dj.config['database.host'] = 'datajoint-public.internationalbrainlab.org'\n",
        "dj.config['database.user'] = 'ibl-public'\n",
        "dj.config['database.password'] = 'ibl-public'"
      ]
    },
    {
      "cell_type": "markdown",
      "metadata": {
        "id": "Ud6L39VQ1vyy"
      },
      "source": [
        "and now we'll import specific IBL data pipeline resources to navigate and access the data (this may take some time to run as it establishes access and fetch relevant resources from the database)."
      ]
    },
    {
      "cell_type": "code",
      "execution_count": null,
      "metadata": {
        "tags": [],
        "id": "CshrjC4y1vyy"
      },
      "outputs": [],
      "source": [
        "from nma_ibl import reference, subject, action, acquisition, data, behavior, behavior_analyses"
      ]
    },
    {
      "cell_type": "markdown",
      "metadata": {
        "id": "-bW-aIeF1vyz"
      },
      "source": [
        "# 1. Browse schemas you have access to - `dj.list_schemas()`\n",
        "\n",
        "One or more related tables are grouped together into \"schemas\", providing for logical structure and organization of tables. Tables belonging to the schema are related to each other in intuitive fashion.\n",
        "\n",
        "You can list what schemas can be found in the IBL data pipeline as follows:"
      ]
    },
    {
      "cell_type": "code",
      "execution_count": null,
      "metadata": {
        "id": "H4_AyXp71vyz"
      },
      "outputs": [],
      "source": [
        "dj.list_schemas()"
      ]
    },
    {
      "cell_type": "markdown",
      "metadata": {
        "id": "QY4_p_NZ1vyz"
      },
      "source": [
        "## Major schemas:   \n",
        "\n",
        "Different schemas in the pipeline correspond to different grouping of related information, and typically associated with different *data sources*.\n",
        "\n",
        "1. Meta data stored and imported from [**Alyx**](https://alyx.readthedocs.io/en/latest/):\n",
        "\n",
        "    1) `ibl_reference`: general information about labs, users and projects  \n",
        "    2) `ibl_subject`: information about the experiment subject including housing and genetics  \n",
        "    3) `ibl_action`: information about performed surgeries\n",
        "    4) `ibl_acquisition`: information about experimental sessions\n",
        "    5) `ibl_data`: information pertaining to underlying data resource handling  \n",
        "    \n",
        "2. Behavioral data stored and imported from **FlatIron** data stores: `ibl_behavior` - trial information of the task.\n",
        "3. Computed alalysis results on the behavioral data: `ibl_analyses_behavior`    "
      ]
    },
    {
      "cell_type": "markdown",
      "metadata": {
        "id": "g5a-LEtc1vyz"
      },
      "source": [
        "# 2. Browse tables in a schema - `dj.Diagram`\n",
        "\n",
        "`dj.Diagram` shows the tables and the dependencies among them. There are four types of DataJoint tables, referred to as different *tiers*, and different types of dependencies:"
      ]
    },
    {
      "cell_type": "markdown",
      "metadata": {
        "id": "f0kC3dA71vy0"
      },
      "source": [
        "### Table tiers  \n",
        "\n",
        "**Manual table**: (green box) Entries in a manual table are inserted \"manually\" or by recording systems. This is the kind of data that if lost, it basically cannot be recovered without proper backups present. A typical example of a manual table is the `subject` table that saves information about animal subjects.\n",
        "\n",
        "**Lookup table**: (gray box) Lookup tables hold general facts that rarely changes, such as a listing of possible genetic lines of an animals, or parameter information for a model.\n",
        "\n",
        "**Imported table**: (blue oval) Entries in an imported table are loaded from as external data source, such as a recording file produced by the recording system. DataJoint offers a clean way to trigger and process the \"ingestion\" of such external data into an imported table. If deleted, the entries may be recoverable if external data source still exists. Examples of imported tables are tables for experimental recordings (e.g. behavioral traces or electrophysiology signals).  \n",
        "\n",
        "**Computed table**: (red circle) Entries in an imported table are computed from data entirely present in the other tables within the pipeline. If deleted, the entries are typically easily recoverable through recomputation. Examples of computed tables are tables for behavioral analysis results.\n",
        "\n",
        "**Part table**: (plain text) Part tables are tables tightly link to its master table, signifying that entires within the part tables should not be deleted without a corresponding deletion of the master table. Data for part tables are usually imported through the master table's logic."
      ]
    },
    {
      "cell_type": "markdown",
      "metadata": {
        "id": "wj8u3Ish1vy0"
      },
      "source": [
        "### Dependencies\n",
        "\n",
        "**One-to-one primary**: (thick solid line) Tables with one-to-one primary dependency have the exact same definition of the primary key. Under this dependency, (up to) only one entry can exist in the child table for every entry in the parent table. \n",
        "\n",
        "**One-to-many primary**: (thin solid line) The child table inherits the primary key definition from its parent, but has additional field as part of the primary key as well. There may exist any number of child table entries corresponding to a single entry in the parent table.\n",
        "\n",
        "**Secondary foreign key reference**: (dashed line) A secondary attribute references to another table, but does not establish primary key dependencies. If any attributes are renamed during the dependency establishment, the link contains an orange dot."
      ]
    },
    {
      "cell_type": "markdown",
      "metadata": {
        "id": "b3YDSURJ1vy0"
      },
      "source": [
        "Below we'll see how you can use `dj.Diagram` to view various parts of a schema, as well as to combine multilpe schemas into one diagram to capture dependencies acorss schemas."
      ]
    },
    {
      "cell_type": "markdown",
      "metadata": {
        "id": "9xlabPNK1vy0"
      },
      "source": [
        "### Show tables in the whole schema"
      ]
    },
    {
      "cell_type": "code",
      "execution_count": null,
      "metadata": {
        "id": "T1d8HZqY1vy0"
      },
      "outputs": [],
      "source": [
        "dj.Diagram(reference)"
      ]
    },
    {
      "cell_type": "markdown",
      "metadata": {
        "id": "l-eyyWRQ1vy1"
      },
      "source": [
        "### Show diagram combining aribtrary parts of the pipeline"
      ]
    },
    {
      "cell_type": "markdown",
      "metadata": {
        "id": "ch_UnGJU1vy1"
      },
      "source": [
        "A combination of aribtrary tables:"
      ]
    },
    {
      "cell_type": "code",
      "execution_count": null,
      "metadata": {
        "id": "Md4NubnG1vy1"
      },
      "outputs": [],
      "source": [
        "dj.Diagram(subject.Subject) + dj.Diagram(subject.Line) + dj.Diagram(subject.SubjectLab) + dj.Diagram(subject.SubjectProject)"
      ]
    },
    {
      "cell_type": "markdown",
      "metadata": {
        "id": "ydA6qQm31vy1"
      },
      "source": [
        "The tables could be from different schemas:"
      ]
    },
    {
      "cell_type": "code",
      "execution_count": null,
      "metadata": {
        "id": "yPH7iYbl1vy1"
      },
      "outputs": [],
      "source": [
        "dj.Diagram(subject.Subject) + dj.Diagram(acquisition.Session)"
      ]
    },
    {
      "cell_type": "markdown",
      "metadata": {
        "id": "crv7ScIr1vy2"
      },
      "source": [
        "# 3. Getting the detailed definition of a table - `table.describe()`"
      ]
    },
    {
      "cell_type": "markdown",
      "metadata": {
        "id": "s7G68YwC1vy2"
      },
      "source": [
        "You can get \"definition\" of any table by calling `.describe()` method:"
      ]
    },
    {
      "cell_type": "code",
      "execution_count": null,
      "metadata": {
        "tags": [],
        "id": "LEeNQeH61vy2"
      },
      "outputs": [],
      "source": [
        "subject.Subject.describe();"
      ]
    },
    {
      "cell_type": "markdown",
      "metadata": {
        "id": "GJmXc_Ex1vy3"
      },
      "source": [
        "# 4. Browsing of data - queries"
      ]
    },
    {
      "cell_type": "markdown",
      "metadata": {
        "id": "0VFdds2Y1vy3"
      },
      "source": [
        "We now show how you can navigate and access contents of the tables by writing `queries`. Below we provide a very brief overview of DataJoint queries with examples. For more thorough discussions and examples, please visit [DataJoint.io](https://datajoint.io) and [DataJoint Tutorials](https://tutorials.datajoint.io)."
      ]
    },
    {
      "cell_type": "markdown",
      "metadata": {
        "id": "3AKyq1kA1vy4"
      },
      "source": [
        " A simplest query is the table itself - which simply corresponds to all entries in the table."
      ]
    },
    {
      "cell_type": "code",
      "execution_count": null,
      "metadata": {
        "id": "61jeyr8c1vy5"
      },
      "outputs": [],
      "source": [
        "subject.Subject()"
      ]
    },
    {
      "cell_type": "markdown",
      "metadata": {
        "id": "4Gd8CHxz1vy6"
      },
      "source": [
        "Notice that each query only gives you a quick preview of the data. We'll soon talk about how to \"fetch\" the data once you formulated a query capturing the data you want to grab."
      ]
    },
    {
      "cell_type": "markdown",
      "metadata": {
        "id": "8NYVTH971vy6"
      },
      "source": [
        "## Restriction  `&`: filtering data"
      ]
    },
    {
      "cell_type": "markdown",
      "metadata": {
        "id": "yCZM-yiJ1vy7"
      },
      "source": [
        "Restriction operation allows for narrow down the query to entries matcihng certain criteria."
      ]
    },
    {
      "cell_type": "markdown",
      "metadata": {
        "id": "wRPIyDJA1vy7"
      },
      "source": [
        "### Restriction: Query one subject"
      ]
    },
    {
      "cell_type": "code",
      "execution_count": null,
      "metadata": {
        "id": "sGjtP2av1vy8"
      },
      "outputs": [],
      "source": [
        "# restrict by string\n",
        "subject.Subject & 'subject_nickname=\"IBL-T1\"'"
      ]
    },
    {
      "cell_type": "code",
      "execution_count": null,
      "metadata": {
        "id": "apyOZVql1vy8"
      },
      "outputs": [],
      "source": [
        "# restrict by a dictionary.\n",
        "subject.Subject & {'subject_uuid': 'cff66dc1-765e-4e04-abef-92de05bf4f19'}"
      ]
    },
    {
      "cell_type": "code",
      "execution_count": null,
      "metadata": {
        "id": "nGUXNgot1vy9"
      },
      "outputs": [],
      "source": [
        "subject.Subject & {'sex': 'm'}"
      ]
    },
    {
      "cell_type": "markdown",
      "metadata": {
        "id": "cxfrxIBb1vy-"
      },
      "source": [
        "### Restriction: Query subjects born after a date"
      ]
    },
    {
      "cell_type": "code",
      "execution_count": null,
      "metadata": {
        "id": "dCf3qj-S1vzF"
      },
      "outputs": [],
      "source": [
        "subject.Subject & 'subject_birth_date > \"2019-01-01\"'"
      ]
    },
    {
      "cell_type": "markdown",
      "metadata": {
        "id": "iYvjuemP1vzF"
      },
      "source": [
        "### Restriction: subjects within a range of dates"
      ]
    },
    {
      "cell_type": "code",
      "execution_count": null,
      "metadata": {
        "id": "F__IZ3rl1vzG"
      },
      "outputs": [],
      "source": [
        "subject.Subject & 'subject_birth_date between \"2019-01-01\" and \"2019-04-01\"'"
      ]
    },
    {
      "cell_type": "markdown",
      "metadata": {
        "id": "CoexAwTW1vzG"
      },
      "source": [
        "### Restriction: Query subjects on multiple attributes"
      ]
    },
    {
      "cell_type": "code",
      "execution_count": null,
      "metadata": {
        "id": "JAVboNA91vzG"
      },
      "outputs": [],
      "source": [
        "subject.Subject & 'subject_birth_date > \"2019-01-01\"' & 'sex=\"M\"'"
      ]
    },
    {
      "cell_type": "markdown",
      "metadata": {
        "id": "v5iSBY9P1vzG"
      },
      "source": [
        "### Restriction: Query dead subjects"
      ]
    },
    {
      "cell_type": "code",
      "execution_count": null,
      "metadata": {
        "id": "H-A4gf7g1vzH"
      },
      "outputs": [],
      "source": [
        "# subjects that are dead\n",
        "subject.Subject & subject.Death"
      ]
    },
    {
      "cell_type": "code",
      "execution_count": null,
      "metadata": {
        "id": "ThcSlYgd1vzH"
      },
      "outputs": [],
      "source": [
        "# subjects that are alive\n",
        "subject.Subject - subject.Death"
      ]
    },
    {
      "cell_type": "markdown",
      "metadata": {
        "id": "HXcr5ISP1vzH"
      },
      "source": [
        "## Join `*`:  gather information from different tables"
      ]
    },
    {
      "cell_type": "markdown",
      "metadata": {
        "id": "-yYUwiy21vzH"
      },
      "source": [
        "You can combine or \"join\" two tables with the `join` operator (`*`). The result represents *every valid combination* of entries across the two tables."
      ]
    },
    {
      "cell_type": "code",
      "execution_count": null,
      "metadata": {
        "id": "wZsCvO-k1vzI"
      },
      "outputs": [],
      "source": [
        "subject.Subject * acquisition.Session"
      ]
    },
    {
      "cell_type": "markdown",
      "metadata": {
        "id": "3tzy82YK1vzI"
      },
      "source": [
        "## Projection `.proj()`: focus on attributes of interest"
      ]
    },
    {
      "cell_type": "markdown",
      "metadata": {
        "id": "s2mI3Qec1vzI"
      },
      "source": [
        "projection allows you to narrow down the table by dropping unnecessary table attributes (except for primary key attributes which cannot be dropped)."
      ]
    },
    {
      "cell_type": "code",
      "execution_count": null,
      "metadata": {
        "id": "JIxiPWA11vzI"
      },
      "outputs": [],
      "source": [
        "# drop all but the primary key attributes\n",
        "subject.Subject.proj()"
      ]
    },
    {
      "cell_type": "code",
      "execution_count": null,
      "metadata": {
        "id": "tdwWluYq1vzI"
      },
      "outputs": [],
      "source": [
        "# keep `subject_birth_date` and `sex`\n",
        "subject.Subject.proj('subject_birth_date', 'sex')"
      ]
    },
    {
      "cell_type": "markdown",
      "metadata": {
        "id": "DUaedMPf1vzI"
      },
      "source": [
        "### rename attribute with ***proj()***"
      ]
    },
    {
      "cell_type": "markdown",
      "metadata": {
        "id": "HHmFeiKw1vzI"
      },
      "source": [
        "You could also use proj to rename attributes."
      ]
    },
    {
      "cell_type": "code",
      "execution_count": null,
      "metadata": {
        "id": "wVH11Rz81vzI"
      },
      "outputs": [],
      "source": [
        "subject.Subject.proj('sex', dob='subject_birth_date')"
      ]
    },
    {
      "cell_type": "markdown",
      "metadata": {
        "id": "LXAJdD-S1vzJ"
      },
      "source": [
        "### perform simple computations with ***proj***"
      ]
    },
    {
      "cell_type": "markdown",
      "metadata": {
        "id": "YEQK2UZF1vzJ"
      },
      "source": [
        "projection also provides for capacity to compute a new field on the fly based on attributes present in the query."
      ]
    },
    {
      "cell_type": "markdown",
      "metadata": {
        "id": "Q6guFKr41vzJ"
      },
      "source": [
        "**Example 1: Get date of a session:**"
      ]
    },
    {
      "cell_type": "code",
      "execution_count": null,
      "metadata": {
        "id": "ndf_sH631vzJ"
      },
      "outputs": [],
      "source": [
        "sessions_with_date = acquisition.Session.proj(session_date='DATE(session_start_time)')"
      ]
    },
    {
      "cell_type": "code",
      "execution_count": null,
      "metadata": {
        "id": "qyJe6aap1vzJ"
      },
      "outputs": [],
      "source": [
        "sessions_with_date"
      ]
    },
    {
      "cell_type": "markdown",
      "metadata": {
        "id": "-Yl-ja9s1vzJ"
      },
      "source": [
        "**Example 2: Age of the animal when performing each session?**"
      ]
    },
    {
      "cell_type": "code",
      "execution_count": null,
      "metadata": {
        "id": "QLiih2e-1vzJ"
      },
      "outputs": [],
      "source": [
        "# First get the date of birth and the session date into the same query\n",
        "q = subject.Subject * acquisition.Session"
      ]
    },
    {
      "cell_type": "code",
      "execution_count": null,
      "metadata": {
        "id": "ZqfgJJ7o1vzK"
      },
      "outputs": [],
      "source": [
        "q"
      ]
    },
    {
      "cell_type": "code",
      "execution_count": null,
      "metadata": {
        "id": "Ev_6AQ2U1vzK"
      },
      "outputs": [],
      "source": [
        "# Then compute the age\n",
        "q_with_age = q.proj(age='DATEDIFF(session_start_time, subject_birth_date)')\n",
        "q_with_age"
      ]
    },
    {
      "cell_type": "markdown",
      "metadata": {
        "id": "mxICTprZ1vzK"
      },
      "source": [
        "### Aggregation `.aggr()`: simple computation of one table against another table"
      ]
    },
    {
      "cell_type": "markdown",
      "metadata": {
        "id": "3SghUGV_1vzK"
      },
      "source": [
        "Aggreation operation allows you to group one or more entries based on shared attributes, and perform computations within each grouping."
      ]
    },
    {
      "cell_type": "markdown",
      "metadata": {
        "id": "qCrnZ5W_1vzK"
      },
      "source": [
        "Example: how many sessions does each subject do so far?"
      ]
    },
    {
      "cell_type": "code",
      "execution_count": null,
      "metadata": {
        "id": "-2qAV_H81vzK"
      },
      "outputs": [],
      "source": [
        "subject.Subject.aggr(acquisition.Session, 'subject_nickname', n='count(*)')"
      ]
    },
    {
      "cell_type": "markdown",
      "metadata": {
        "id": "I2G6r1jd1vzL"
      },
      "source": [
        "## Combining queries"
      ]
    },
    {
      "cell_type": "markdown",
      "metadata": {
        "id": "-Vrn5Wio1vzL"
      },
      "source": [
        "As you saw, a result of a query can be used in the next query with no restriction. This makes it possible to build a fairly complex query by combining multiple steps of simple queries!"
      ]
    },
    {
      "cell_type": "markdown",
      "metadata": {
        "id": "jL-xCm741vzL"
      },
      "source": [
        "# 5. Fetching data"
      ]
    },
    {
      "cell_type": "markdown",
      "metadata": {
        "id": "Th11t9241vzL"
      },
      "source": [
        "Now you have seen how you can manipuate queries to get exactly what you are interested, you can \"fetch\" the data to pull them into your working environment and start performing computaitons on the fetched data."
      ]
    },
    {
      "cell_type": "markdown",
      "metadata": {
        "id": "h5qNhIbR1vzL"
      },
      "source": [
        "## Fetch all fields: `fetch()`"
      ]
    },
    {
      "cell_type": "markdown",
      "metadata": {
        "id": "sjun95s51vzL"
      },
      "source": [
        "You can fetch everything by calling `.fetch()` on the query. This returns a NumPy structured array by default."
      ]
    },
    {
      "cell_type": "code",
      "execution_count": null,
      "metadata": {
        "id": "ii9NLS4i1vzL"
      },
      "outputs": [],
      "source": [
        "# fetch all data from a table\n",
        "subjs = subject.Subject.fetch()\n",
        "subjs"
      ]
    },
    {
      "cell_type": "code",
      "execution_count": null,
      "metadata": {
        "id": "fwwOxtlp1vzM"
      },
      "outputs": [],
      "source": [
        "subjs['subject_uuid']"
      ]
    },
    {
      "cell_type": "code",
      "execution_count": null,
      "metadata": {
        "id": "MvaLaH2A1vzM"
      },
      "outputs": [],
      "source": [
        "subjs['subject_birth_date']"
      ]
    },
    {
      "cell_type": "markdown",
      "metadata": {
        "id": "q8G5SKCN1vzM"
      },
      "source": [
        "Alternatively, you can fetch them as a list of dictionaries."
      ]
    },
    {
      "cell_type": "code",
      "execution_count": null,
      "metadata": {
        "id": "In4ADoBa1vzM"
      },
      "outputs": [],
      "source": [
        "# fetch as a list of dictionaries\n",
        "subjs_dict = subject.Subject.fetch(as_dict=True)\n",
        "subjs_dict"
      ]
    },
    {
      "cell_type": "markdown",
      "metadata": {
        "id": "gSBMHU801vzM"
      },
      "source": [
        "...or as [pandas](https://pandas.pydata.org/) dataframe (`pandas` library has to be installed)"
      ]
    },
    {
      "cell_type": "code",
      "execution_count": null,
      "metadata": {
        "id": "9HisnPY01vzM"
      },
      "outputs": [],
      "source": [
        "# fetch as pandas dataframe\n",
        "subjs_df = subject.Subject.fetch(format='frame')\n",
        "subjs_df"
      ]
    },
    {
      "cell_type": "markdown",
      "metadata": {
        "id": "PV2N7mtO1vzN"
      },
      "source": [
        "You can use special keyword `'KEY'` to just fetch the primary keys are list of dictionaries:"
      ]
    },
    {
      "cell_type": "code",
      "execution_count": null,
      "metadata": {
        "id": "O_yiS0Pm1vzN"
      },
      "outputs": [],
      "source": [
        "# fetch the primary key\n",
        "pk = subject.Subject.fetch('KEY')\n",
        "pk"
      ]
    },
    {
      "cell_type": "markdown",
      "metadata": {
        "id": "Vo-t4qc-1vzN"
      },
      "source": [
        "Also you can specify exact attributes you would like to retrieve and they will be returned as their own (index aligned) lists:"
      ]
    },
    {
      "cell_type": "code",
      "execution_count": null,
      "metadata": {
        "id": "8R98bk521vzN"
      },
      "outputs": [],
      "source": [
        "# fetch specific attributes\n",
        "dob, sex = subject.Subject.fetch('subject_birth_date', 'sex')"
      ]
    },
    {
      "cell_type": "code",
      "execution_count": null,
      "metadata": {
        "id": "mPvQ9siL1vzO"
      },
      "outputs": [],
      "source": [
        "dob[:10]"
      ]
    },
    {
      "cell_type": "code",
      "execution_count": null,
      "metadata": {
        "id": "EyLBDsTQ1vzO"
      },
      "outputs": [],
      "source": [
        "sex[:10]"
      ]
    },
    {
      "cell_type": "markdown",
      "metadata": {
        "id": "L5GKguXp1vzO"
      },
      "source": [
        "If you specify `as_dict=True` while specifying specific attributes, you can get back a list of dictionaries with only those attributes:"
      ]
    },
    {
      "cell_type": "code",
      "execution_count": null,
      "metadata": {
        "id": "Pt5CDUbC1vzO"
      },
      "outputs": [],
      "source": [
        "info = subject.Subject.fetch('subject_birth_date', 'sex', as_dict=True)\n",
        "info"
      ]
    },
    {
      "cell_type": "markdown",
      "metadata": {
        "id": "m2m7J-Xn1vzO"
      },
      "source": [
        "## fetch data only from one entry: `fetch1`"
      ]
    },
    {
      "cell_type": "markdown",
      "metadata": {
        "id": "brZ4D3V91vzP"
      },
      "source": [
        "Sometimes you know that there is only exactly one entry in your query. In that case, rather than getting back a list with one entry, you can already expand the listing by using `fetch1` instead"
      ]
    },
    {
      "cell_type": "code",
      "execution_count": null,
      "metadata": {
        "id": "xFVUEFKE1vzP"
      },
      "outputs": [],
      "source": [
        "CSHL_015 = (subject.Subject & {'subject_nickname': 'CSHL_015'}).fetch1('KEY')  # \"fetch1()\" because we know there's only one"
      ]
    },
    {
      "cell_type": "code",
      "execution_count": null,
      "metadata": {
        "id": "s3jiiqpy1vzP"
      },
      "outputs": [],
      "source": [
        "CSHL_015"
      ]
    },
    {
      "cell_type": "code",
      "execution_count": null,
      "metadata": {
        "id": "gzOwDikw1vzP"
      },
      "outputs": [],
      "source": [
        "IBL_T1 = (subject.Subject & {'subject_nickname': 'IBL-T1'}).fetch1()"
      ]
    },
    {
      "cell_type": "code",
      "execution_count": null,
      "metadata": {
        "id": "ggDZqIRx1vzP"
      },
      "outputs": [],
      "source": [
        "IBL_T1"
      ]
    },
    {
      "cell_type": "markdown",
      "metadata": {
        "id": "XJ77umPd1vzQ"
      },
      "source": [
        "# 5. Behavioral trial information"
      ]
    },
    {
      "cell_type": "markdown",
      "metadata": {
        "id": "0eVXq8m11vzQ"
      },
      "source": [
        "Among the most interesting and important information in the IBL public data pipeline as it stands is the behavioral trials for the 2 alternative force choice (2AFC) task.\n",
        "\n",
        "Let's go into a bit more details on the relevant tables housing the behvaioral information -- `behaivor` schema."
      ]
    },
    {
      "cell_type": "markdown",
      "metadata": {
        "id": "VBI5UP6U1vzQ"
      },
      "source": [
        "Among the most important table in this schema is `behavior.TrialSet`"
      ]
    },
    {
      "cell_type": "code",
      "execution_count": null,
      "metadata": {
        "id": "gB4045Gl1vzQ"
      },
      "outputs": [],
      "source": [
        "behavior.TrialSet()"
      ]
    },
    {
      "cell_type": "markdown",
      "metadata": {
        "id": "oi_1uc6V1vzQ"
      },
      "source": [
        "The `TrialSet` table stores some summary statistics for each session of the behavioral experiment. To also show information about the subject, we could join the table with `subject` related tables."
      ]
    },
    {
      "cell_type": "code",
      "execution_count": null,
      "metadata": {
        "id": "nGETYFfD1vzQ"
      },
      "outputs": [],
      "source": [
        "behavior.TrialSet * subject.Subject * subject.SubjectLab * subject.SubjectProject"
      ]
    },
    {
      "cell_type": "markdown",
      "metadata": {
        "id": "ujVRtgY51vzR"
      },
      "source": [
        "We could restrict to one session, for example to a behavior session that started exactly on `2019-09-16 13:44:46` by:"
      ]
    },
    {
      "cell_type": "code",
      "execution_count": null,
      "metadata": {
        "id": "ZI26MzSG1vzR"
      },
      "outputs": [],
      "source": [
        "import datetime\n",
        "q = behavior.TrialSet * subject.Subject * subject.SubjectLab * subject.SubjectProject & \\\n",
        "    'subject_nickname=\"CSHL_015\"' & {'session_start_time': datetime.datetime(2019, 9, 16, 13, 44, 46)}\n",
        "q"
      ]
    },
    {
      "cell_type": "markdown",
      "metadata": {
        "id": "KEDj4MNv1vzR"
      },
      "source": [
        "alternatively you could use string for date value"
      ]
    },
    {
      "cell_type": "code",
      "execution_count": null,
      "metadata": {
        "id": "_7MmnxEe1vzR"
      },
      "outputs": [],
      "source": [
        "q = behavior.TrialSet * subject.Subject * subject.SubjectLab * subject.SubjectProject & \\\n",
        "    'subject_nickname=\"CSHL_015\"' & {'session_start_time': \"2019-9-16 13:44:46\"}\n",
        "q"
      ]
    },
    {
      "cell_type": "markdown",
      "metadata": {
        "id": "F1pQwCbp1vzR"
      },
      "source": [
        "The trial-by-trial information are shown in a **part table**  of the `behavior.TrialSet`: `behavior.TrialSet.Trial`"
      ]
    },
    {
      "cell_type": "code",
      "execution_count": null,
      "metadata": {
        "id": "qytG-U7r1vzR"
      },
      "outputs": [],
      "source": [
        "behavior.TrialSet.Trial()"
      ]
    },
    {
      "cell_type": "markdown",
      "metadata": {
        "id": "9UBFiRpb1vzR"
      },
      "source": [
        "We could check a brief description for each of the column with `describe()`"
      ]
    },
    {
      "cell_type": "code",
      "execution_count": null,
      "metadata": {
        "tags": [],
        "id": "mfTJ_ozR1vzS"
      },
      "outputs": [],
      "source": [
        "behavior.TrialSet.Trial.describe();"
      ]
    },
    {
      "cell_type": "markdown",
      "metadata": {
        "id": "OTfrdpwt1vzS"
      },
      "source": [
        "To fetch some part of data, we could do use the fetch method after we formulate query to narrow down our results:  "
      ]
    },
    {
      "cell_type": "markdown",
      "metadata": {
        "id": "shQdvmpS1vzS"
      },
      "source": [
        "For example, you might like to see the stimulus contrasts, and the animal choices for the one session that we already queried and saved as `q`.\n",
        "To do so, we could do:"
      ]
    },
    {
      "cell_type": "code",
      "execution_count": null,
      "metadata": {
        "id": "bd7Cw6Cy1vzS"
      },
      "outputs": [],
      "source": [
        "# we could fetch the fields as a list of dictionary, only for the trials with a choice\n",
        "# q corresponds to a single session we narrowed down from a query above\n",
        "data = (behavior.TrialSet.Trial & q & 'trial_response_choice !=\"No Go\"').fetch(\n",
        "    'trial_stim_contrast_left', 'trial_stim_contrast_right', 'trial_response_choice', as_dict=True)"
      ]
    },
    {
      "cell_type": "code",
      "execution_count": null,
      "metadata": {
        "id": "iWPGduRw1vzS"
      },
      "outputs": [],
      "source": [
        "# We could then convert the data to a dataframe for further analyses\n",
        "import pandas as pd\n",
        "df = pd.DataFrame(data)\n",
        "df"
      ]
    },
    {
      "cell_type": "markdown",
      "metadata": {
        "id": "s_-rTJ3H1vzS"
      },
      "source": [
        "Then we can explore and perform computations on the fetched data."
      ]
    },
    {
      "cell_type": "markdown",
      "metadata": {
        "id": "CUrmGigS1vzS"
      },
      "source": [
        "As an example, let us first compute the signed contrast, so that the presence of contrasts on the right are indicated by positive value and negative for left."
      ]
    },
    {
      "cell_type": "code",
      "execution_count": null,
      "metadata": {
        "id": "dem4Jhh21vzT"
      },
      "outputs": [],
      "source": [
        "df['signed_contrast'] = df['trial_stim_contrast_right'] - df['trial_stim_contrast_left']"
      ]
    },
    {
      "cell_type": "code",
      "execution_count": null,
      "metadata": {
        "id": "waLxavdU1vzT"
      },
      "outputs": [],
      "source": [
        "df['report_right'] = df['trial_response_choice'] == \"CCW\""
      ]
    },
    {
      "cell_type": "code",
      "execution_count": null,
      "metadata": {
        "id": "KSV4innT1vzT"
      },
      "outputs": [],
      "source": [
        "report_right = df.groupby(['signed_contrast'], as_index=False).mean()\n",
        "report_right"
      ]
    },
    {
      "cell_type": "markdown",
      "metadata": {
        "id": "zxIEcxni1vzT"
      },
      "source": [
        "Now, let's plot the psychometric curve: prob_report_right vs signed_contrast:"
      ]
    },
    {
      "cell_type": "code",
      "execution_count": null,
      "metadata": {
        "id": "XmCJn6oS1vzT"
      },
      "outputs": [],
      "source": [
        "import matplotlib.pyplot as plt\n",
        "plt.plot(report_right['signed_contrast'], report_right['report_right'], 'o')\n",
        "plt.xlabel('Signed Contrast')\n",
        "plt.ylabel('Probability reporting right')"
      ]
    },
    {
      "cell_type": "markdown",
      "metadata": {
        "id": "7ok2WeJb1vzT"
      },
      "source": [
        "Some basic analyses such as computations of psychometric curves have been pre-processed and saved in one of the downstream tables, such as `behavior_analyses.PsychResults`. \n",
        "\n",
        "In the next notebook, we will step through how to fetch data from the computational analysis result tables present in the data pipeline to recreate the psychometric curves for any particular session."
      ]
    },
    {
      "cell_type": "markdown",
      "metadata": {
        "id": "nnwLXlEb1vzT"
      },
      "source": [
        "You can find additional learning resources for DataJoint at [DataJoint.io](https://datajoint.io), and you can also sign up to our DataJoint Slack group (link on the website) to join the vibrant DataJoint user community!"
      ]
    }
  ],
  "metadata": {
    "kernelspec": {
      "display_name": "Python 3",
      "language": "python",
      "name": "python3"
    },
    "language_info": {
      "codemirror_mode": {
        "name": "ipython",
        "version": 3
      },
      "file_extension": ".py",
      "mimetype": "text/x-python",
      "name": "python",
      "nbconvert_exporter": "python",
      "pygments_lexer": "ipython3",
      "version": "3.7.3"
    },
    "colab": {
      "provenance": []
    }
  },
  "nbformat": 4,
  "nbformat_minor": 0
}